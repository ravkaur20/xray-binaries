{
 "cells": [
  {
   "cell_type": "code",
   "execution_count": 10,
   "id": "32f028d5-ee71-4a3b-a690-673164967216",
   "metadata": {},
   "outputs": [],
   "source": [
    "import pandas as pd\n",
    "from astropy.io import ascii\n",
    "import numpy as np\n",
    "from astropy.io import fits\n",
    "import matplotlib.pyplot as plt\n",
    "from matplotlib.gridspec import GridSpec"
   ]
  },
  {
   "cell_type": "code",
   "execution_count": 3,
   "id": "06448f09-1aa1-4ff9-9ae7-a0774d27c40e",
   "metadata": {
    "scrolled": true
   },
   "outputs": [
    {
     "name": "stdout",
     "output_type": "stream",
     "text": [
      "              TIME  NET_RATE  ERR_RATE  NET_COUNTS    EXPOSURE    AREA  \\\n",
      "0     6.957846e+07  0.000000       NaN         NaN    0.000000  9.6875   \n",
      "1     6.957876e+07  0.000000       NaN         NaN    0.000000  9.6875   \n",
      "2     6.957906e+07  0.000000  0.000000    0.000000  201.417517  9.6875   \n",
      "3     6.957936e+07  0.000000  0.000000    0.000000  286.200000  9.6875   \n",
      "4     6.957966e+07  0.000000  0.000000    0.000000  286.200000  9.6875   \n",
      "...            ...       ...       ...         ...         ...     ...   \n",
      "1799  5.285154e+08  0.073297  0.016442   19.936919  272.000000  9.7500   \n",
      "1800  5.285157e+08  0.088235  0.018011   24.000000  272.000000  9.7500   \n",
      "1801  5.285160e+08  0.097859  0.029505   11.000000  112.407173  9.7500   \n",
      "1802  5.285163e+08  0.000000       NaN         NaN    0.000000  9.7500   \n",
      "1803  5.285166e+08  0.000000       NaN         NaN    0.000000  9.7500   \n",
      "\n",
      "      COUNT_RATE  COUNT_RATE_ERR  COUNTS  BG_COUNTS   BG_AREA   BG_RATE  \\\n",
      "0       0.000000        0.000000     0.0        0.0  285.1875  0.000000   \n",
      "1       0.000000        0.000000     0.0        0.0  285.1875  0.000000   \n",
      "2       0.000000        0.000000     0.0        0.0  285.1875  0.000000   \n",
      "3       0.000000        0.000000     0.0        0.0  285.1875  0.000000   \n",
      "4       0.000000        0.000000     0.0        0.0  285.1875  0.000000   \n",
      "...          ...             ...     ...        ...       ...       ...   \n",
      "1799    0.073529        0.016442    20.0        2.0  309.1250  0.007353   \n",
      "1800    0.088235        0.018011    24.0        0.0  309.1250  0.000000   \n",
      "1801    0.097859        0.029505    11.0        0.0  309.1250  0.000000   \n",
      "1802    0.000000        0.000000     0.0        0.0  309.1250  0.000000   \n",
      "1803    0.000000        0.000000     0.0        0.0  309.1250  0.000000   \n",
      "\n",
      "       NET_ERR  \n",
      "0          NaN  \n",
      "1          NaN  \n",
      "2     0.000000  \n",
      "3     0.000000  \n",
      "4     0.000000  \n",
      "...        ...  \n",
      "1799  4.472358  \n",
      "1800  4.898979  \n",
      "1801  3.316625  \n",
      "1802       NaN  \n",
      "1803       NaN  \n",
      "\n",
      "[1804 rows x 13 columns]\n"
     ]
    }
   ],
   "source": [
    "def combine_obsids(file_paths):\n",
    "    # Create an empty list to store the dataframes from each file\n",
    "    dataframes = []\n",
    "\n",
    "    # Sort the dataframes based on the timestamp column\n",
    "    dataframes.sort(key=lambda x: x['TIME'])\n",
    "\n",
    "    # Concatenate the sorted dataframes into a single dataframe\n",
    "    combined_df = pd.concat(dataframes)\n",
    "\n",
    "    return combined_df\n",
    "\n",
    "# List of file paths for the 19 text files\n",
    "file_paths = [\n",
    "    \"my_source/2CXO_J002400.9-720453/acisf00078_000N031_r0079_regevt3.fits.b.lc.txt\",\n",
    "    \"my_source/2CXO_J002400.9-720453/acisf00953_000N031_r0079_regevt3.fits.b.lc.txt\",\n",
    "    \"my_source/2CXO_J002400.9-720453/acisf00954_000N031_r0079_regevt3.fits.b.lc.txt\",\n",
    "    \"my_source/2CXO_J002400.9-720453/acisf00955_000N031_r0079_regevt3.fits.b.lc.txt\",\n",
    "    \"my_source/2CXO_J002400.9-720453/acisf00956_000N031_r0079_regevt3.fits.b.lc.txt\",\n",
    "    \"my_source/2CXO_J002400.9-720453/acisf02735_000N031_r0139_regevt3.fits.b.lc.txt\",\n",
    "    \"my_source/2CXO_J002400.9-720453/acisf02736_000N031_r0139_regevt3.fits.b.lc.txt\",\n",
    "    \"my_source/2CXO_J002400.9-720453/acisf02737_000N031_r0139_regevt3.fits.b.lc.txt\",\n",
    "    \"my_source/2CXO_J002400.9-720453/acisf02738_000N031_r0139_regevt3.fits.b.lc.txt\",\n",
    "    \"my_source/2CXO_J002400.9-720453/acisf03384_000N031_r0139_regevt3.fits.b.lc.txt\",\n",
    "    \"my_source/2CXO_J002400.9-720453/acisf03385_000N031_r0139_regevt3.fits.b.lc.txt\",\n",
    "    \"my_source/2CXO_J002400.9-720453/acisf03385_000N031_r0139_regevt3.fits.b.lc.txt\",\n",
    "    \"my_source/2CXO_J002400.9-720453/acisf03387_000N031_r0139_regevt3.fits.b.lc.txt\",\n",
    "    \"my_source/2CXO_J002400.9-720453/acisf03387_000N031_r0139_regevt3.fits.b.lc.txt\",\n",
    "    \"my_source/2CXO_J002400.9-720453/acisf03387_000N031_r0139_regevt3.fits.b.lc.txt\",\n",
    "    \"my_source/2CXO_J002400.9-720453/acisf16527_000N031_r0079_regevt3.fits.b.lc.txt\",\n",
    "    \"my_source/2CXO_J002400.9-720453/acisf16528_000N031_r0014_regevt3.fits.b.lc.txt\",\n",
    "    \"my_source/2CXO_J002400.9-720453/acisf16529_000N031_r0079_regevt3.fits.b.lc.txt\",\n",
    "    \"my_source/2CXO_J002400.9-720453/acisf17420_000N031_r0079_regevt3.fits.b.lc.txt\"\n",
    "]\n",
    "\n",
    "with open('./my_source/combinedfile','w') as outfile:\n",
    "  for fname in file_paths:\n",
    "    with open(fname) as infile:\n",
    "      next(infile)\n",
    "      outfile.write(infile.read())\n",
    "arr = np.genfromtxt('./my_source/combinedfile');\n",
    "df = pd.DataFrame(arr, columns=['TIME', 'NET_RATE', 'ERR_RATE', 'NET_COUNTS', 'EXPOSURE', 'AREA', 'COUNT_RATE', 'COUNT_RATE_ERR', 'COUNTS', 'BG_COUNTS', 'BG_AREA', 'BG_RATE', 'NET_ERR' ])\n",
    "df.to_csv('./my_source/combinedfile_withcolnames', index=False)\n",
    "print(df)"
   ]
  },
  {
   "cell_type": "code",
   "execution_count": 15,
   "id": "eba37617-1469-4771-8baf-13f504e957ee",
   "metadata": {},
   "outputs": [
    {
     "ename": "TypeError",
     "evalue": "read_csv() got an unexpected keyword argument 'columns'",
     "output_type": "error",
     "traceback": [
      "\u001b[0;31m---------------------------------------------------------------------------\u001b[0m",
      "\u001b[0;31mTypeError\u001b[0m                                 Traceback (most recent call last)",
      "Cell \u001b[0;32mIn[15], line 1\u001b[0m\n\u001b[0;32m----> 1\u001b[0m df00078 \u001b[38;5;241m=\u001b[39m \u001b[43mpd\u001b[49m\u001b[38;5;241;43m.\u001b[39;49m\u001b[43mread_csv\u001b[49m\u001b[43m(\u001b[49m\u001b[38;5;124;43m\"\u001b[39;49m\u001b[38;5;124;43mmy_source/2CXO_J002400.9-720453/acisf00953_000N031_r0079_regevt3.fits.b.lc.txt\u001b[39;49m\u001b[38;5;124;43m\"\u001b[39;49m\u001b[43m,\u001b[49m\u001b[43m \u001b[49m\u001b[43mcolumns\u001b[49m\u001b[38;5;241;43m=\u001b[39;49m\u001b[43m[\u001b[49m\u001b[38;5;124;43m'\u001b[39;49m\u001b[38;5;124;43mTIME\u001b[39;49m\u001b[38;5;124;43m'\u001b[39;49m\u001b[43m,\u001b[49m\u001b[43m \u001b[49m\u001b[38;5;124;43m'\u001b[39;49m\u001b[38;5;124;43mNET_RATE\u001b[39;49m\u001b[38;5;124;43m'\u001b[39;49m\u001b[43m,\u001b[49m\u001b[43m \u001b[49m\u001b[38;5;124;43m'\u001b[39;49m\u001b[38;5;124;43mERR_RATE\u001b[39;49m\u001b[38;5;124;43m'\u001b[39;49m\u001b[43m,\u001b[49m\u001b[43m \u001b[49m\u001b[38;5;124;43m'\u001b[39;49m\u001b[38;5;124;43mNET_COUNTS\u001b[39;49m\u001b[38;5;124;43m'\u001b[39;49m\u001b[43m,\u001b[49m\u001b[43m \u001b[49m\u001b[38;5;124;43m'\u001b[39;49m\u001b[38;5;124;43mEXPOSURE\u001b[39;49m\u001b[38;5;124;43m'\u001b[39;49m\u001b[43m,\u001b[49m\u001b[43m \u001b[49m\u001b[38;5;124;43m'\u001b[39;49m\u001b[38;5;124;43mAREA\u001b[39;49m\u001b[38;5;124;43m'\u001b[39;49m\u001b[43m,\u001b[49m\u001b[43m \u001b[49m\u001b[38;5;124;43m'\u001b[39;49m\u001b[38;5;124;43mCOUNT_RATE\u001b[39;49m\u001b[38;5;124;43m'\u001b[39;49m\u001b[43m,\u001b[49m\u001b[43m \u001b[49m\u001b[38;5;124;43m'\u001b[39;49m\u001b[38;5;124;43mCOUNT_RATE_ERR\u001b[39;49m\u001b[38;5;124;43m'\u001b[39;49m\u001b[43m,\u001b[49m\u001b[43m \u001b[49m\u001b[38;5;124;43m'\u001b[39;49m\u001b[38;5;124;43mCOUNTS\u001b[39;49m\u001b[38;5;124;43m'\u001b[39;49m\u001b[43m,\u001b[49m\u001b[43m \u001b[49m\u001b[38;5;124;43m'\u001b[39;49m\u001b[38;5;124;43mBG_COUNTS\u001b[39;49m\u001b[38;5;124;43m'\u001b[39;49m\u001b[43m,\u001b[49m\u001b[43m \u001b[49m\u001b[38;5;124;43m'\u001b[39;49m\u001b[38;5;124;43mBG_AREA\u001b[39;49m\u001b[38;5;124;43m'\u001b[39;49m\u001b[43m,\u001b[49m\u001b[43m \u001b[49m\u001b[38;5;124;43m'\u001b[39;49m\u001b[38;5;124;43mBG_RATE\u001b[39;49m\u001b[38;5;124;43m'\u001b[39;49m\u001b[43m,\u001b[49m\u001b[43m \u001b[49m\u001b[38;5;124;43m'\u001b[39;49m\u001b[38;5;124;43mNET_ERR\u001b[39;49m\u001b[38;5;124;43m'\u001b[39;49m\u001b[43m \u001b[49m\u001b[43m]\u001b[49m\u001b[43m)\u001b[49m\n\u001b[1;32m      2\u001b[0m df00953 \u001b[38;5;241m=\u001b[39m pd\u001b[38;5;241m.\u001b[39mread_csv(\u001b[38;5;124m\"\u001b[39m\u001b[38;5;124mmy_source/2CXO_J002400.9-720453/acisf00953_000N031_r0079_regevt3.fits.b.lc.txt\u001b[39m\u001b[38;5;124m\"\u001b[39m, columns\u001b[38;5;241m=\u001b[39m[\u001b[38;5;124m'\u001b[39m\u001b[38;5;124mTIME\u001b[39m\u001b[38;5;124m'\u001b[39m, \u001b[38;5;124m'\u001b[39m\u001b[38;5;124mNET_RATE\u001b[39m\u001b[38;5;124m'\u001b[39m, \u001b[38;5;124m'\u001b[39m\u001b[38;5;124mERR_RATE\u001b[39m\u001b[38;5;124m'\u001b[39m, \u001b[38;5;124m'\u001b[39m\u001b[38;5;124mNET_COUNTS\u001b[39m\u001b[38;5;124m'\u001b[39m, \u001b[38;5;124m'\u001b[39m\u001b[38;5;124mEXPOSURE\u001b[39m\u001b[38;5;124m'\u001b[39m, \u001b[38;5;124m'\u001b[39m\u001b[38;5;124mAREA\u001b[39m\u001b[38;5;124m'\u001b[39m, \u001b[38;5;124m'\u001b[39m\u001b[38;5;124mCOUNT_RATE\u001b[39m\u001b[38;5;124m'\u001b[39m, \u001b[38;5;124m'\u001b[39m\u001b[38;5;124mCOUNT_RATE_ERR\u001b[39m\u001b[38;5;124m'\u001b[39m, \u001b[38;5;124m'\u001b[39m\u001b[38;5;124mCOUNTS\u001b[39m\u001b[38;5;124m'\u001b[39m, \u001b[38;5;124m'\u001b[39m\u001b[38;5;124mBG_COUNTS\u001b[39m\u001b[38;5;124m'\u001b[39m, \u001b[38;5;124m'\u001b[39m\u001b[38;5;124mBG_AREA\u001b[39m\u001b[38;5;124m'\u001b[39m, \u001b[38;5;124m'\u001b[39m\u001b[38;5;124mBG_RATE\u001b[39m\u001b[38;5;124m'\u001b[39m, \u001b[38;5;124m'\u001b[39m\u001b[38;5;124mNET_ERR\u001b[39m\u001b[38;5;124m'\u001b[39m ])\n\u001b[1;32m      3\u001b[0m df00954 \u001b[38;5;241m=\u001b[39m pd\u001b[38;5;241m.\u001b[39mread_csv(\u001b[38;5;124m\"\u001b[39m\u001b[38;5;124mmy_source/2CXO_J002400.9-720453/acisf00954_000N031_r0079_regevt3.fits.b.lc.txt\u001b[39m\u001b[38;5;124m\"\u001b[39m, columns\u001b[38;5;241m=\u001b[39m[\u001b[38;5;124m'\u001b[39m\u001b[38;5;124mTIME\u001b[39m\u001b[38;5;124m'\u001b[39m, \u001b[38;5;124m'\u001b[39m\u001b[38;5;124mNET_RATE\u001b[39m\u001b[38;5;124m'\u001b[39m, \u001b[38;5;124m'\u001b[39m\u001b[38;5;124mERR_RATE\u001b[39m\u001b[38;5;124m'\u001b[39m, \u001b[38;5;124m'\u001b[39m\u001b[38;5;124mNET_COUNTS\u001b[39m\u001b[38;5;124m'\u001b[39m, \u001b[38;5;124m'\u001b[39m\u001b[38;5;124mEXPOSURE\u001b[39m\u001b[38;5;124m'\u001b[39m, \u001b[38;5;124m'\u001b[39m\u001b[38;5;124mAREA\u001b[39m\u001b[38;5;124m'\u001b[39m, \u001b[38;5;124m'\u001b[39m\u001b[38;5;124mCOUNT_RATE\u001b[39m\u001b[38;5;124m'\u001b[39m, \u001b[38;5;124m'\u001b[39m\u001b[38;5;124mCOUNT_RATE_ERR\u001b[39m\u001b[38;5;124m'\u001b[39m, \u001b[38;5;124m'\u001b[39m\u001b[38;5;124mCOUNTS\u001b[39m\u001b[38;5;124m'\u001b[39m, \u001b[38;5;124m'\u001b[39m\u001b[38;5;124mBG_COUNTS\u001b[39m\u001b[38;5;124m'\u001b[39m, \u001b[38;5;124m'\u001b[39m\u001b[38;5;124mBG_AREA\u001b[39m\u001b[38;5;124m'\u001b[39m, \u001b[38;5;124m'\u001b[39m\u001b[38;5;124mBG_RATE\u001b[39m\u001b[38;5;124m'\u001b[39m, \u001b[38;5;124m'\u001b[39m\u001b[38;5;124mNET_ERR\u001b[39m\u001b[38;5;124m'\u001b[39m ])\n",
      "\u001b[0;31mTypeError\u001b[0m: read_csv() got an unexpected keyword argument 'columns'"
     ]
    }
   ],
   "source": [
    "df00078 = pd.read_csv(\"my_source/2CXO_J002400.9-720453/acisf00953_000N031_r0079_regevt3.fits.b.lc.txt\", columns=['TIME', 'NET_RATE', 'ERR_RATE', 'NET_COUNTS', 'EXPOSURE', 'AREA', 'COUNT_RATE', 'COUNT_RATE_ERR', 'COUNTS', 'BG_COUNTS', 'BG_AREA', 'BG_RATE', 'NET_ERR' ])\n",
    "df00953 = pd.read_csv(\"my_source/2CXO_J002400.9-720453/acisf00953_000N031_r0079_regevt3.fits.b.lc.txt\", columns=['TIME', 'NET_RATE', 'ERR_RATE', 'NET_COUNTS', 'EXPOSURE', 'AREA', 'COUNT_RATE', 'COUNT_RATE_ERR', 'COUNTS', 'BG_COUNTS', 'BG_AREA', 'BG_RATE', 'NET_ERR' ])\n",
    "df00954 = pd.read_csv(\"my_source/2CXO_J002400.9-720453/acisf00954_000N031_r0079_regevt3.fits.b.lc.txt\", columns=['TIME', 'NET_RATE', 'ERR_RATE', 'NET_COUNTS', 'EXPOSURE', 'AREA', 'COUNT_RATE', 'COUNT_RATE_ERR', 'COUNTS', 'BG_COUNTS', 'BG_AREA', 'BG_RATE', 'NET_ERR' ])\n",
    "df00955 = pd.read_csv(\"my_source/2CXO_J002400.9-720453/acisf00955_000N031_r0079_regevt3.fits.b.lc.txt\", columns=['TIME', 'NET_RATE', 'ERR_RATE', 'NET_COUNTS', 'EXPOSURE', 'AREA', 'COUNT_RATE', 'COUNT_RATE_ERR', 'COUNTS', 'BG_COUNTS', 'BG_AREA', 'BG_RATE', 'NET_ERR' ])\n",
    "df00956 = pd.read_csv(\"my_source/2CXO_J002400.9-720453/acisf00956_000N031_r0079_regevt3.fits.b.lc.txt\", columns=['TIME', 'NET_RATE', 'ERR_RATE', 'NET_COUNTS', 'EXPOSURE', 'AREA', 'COUNT_RATE', 'COUNT_RATE_ERR', 'COUNTS', 'BG_COUNTS', 'BG_AREA', 'BG_RATE', 'NET_ERR' ])\n",
    "df02735 = pd.read_csv(\"my_source/2CXO_J002400.9-720453/acisf00956_000N031_r0079_regevt3.fits.b.lc.txt\", columns=['TIME', 'NET_RATE', 'ERR_RATE', 'NET_COUNTS', 'EXPOSURE', 'AREA', 'COUNT_RATE', 'COUNT_RATE_ERR', 'COUNTS', 'BG_COUNTS', 'BG_AREA', 'BG_RATE', 'NET_ERR' ])\n",
    "df02736 = pd.read_csv(\"my_source/2CXO_J002400.9-720453/acisf00956_000N031_r0079_regevt3.fits.b.lc.txt\", columns=['TIME', 'NET_RATE', 'ERR_RATE', 'NET_COUNTS', 'EXPOSURE', 'AREA', 'COUNT_RATE', 'COUNT_RATE_ERR', 'COUNTS', 'BG_COUNTS', 'BG_AREA', 'BG_RATE', 'NET_ERR' ])\n",
    "df02737 = pd.read_csv(\"my_source/2CXO_J002400.9-720453/acisf00956_000N031_r0079_regevt3.fits.b.lc.txt\", columns=['TIME', 'NET_RATE', 'ERR_RATE', 'NET_COUNTS', 'EXPOSURE', 'AREA', 'COUNT_RATE', 'COUNT_RATE_ERR', 'COUNTS', 'BG_COUNTS', 'BG_AREA', 'BG_RATE', 'NET_ERR' ])\n",
    "df02738 = pd.read_csv(\"my_source/2CXO_J002400.9-720453/acisf02738_000N031_r0139_regevt3.fits.b.lc.txt\", columns=['TIME', 'NET_RATE', 'ERR_RATE', 'NET_COUNTS', 'EXPOSURE', 'AREA', 'COUNT_RATE', 'COUNT_RATE_ERR', 'COUNTS', 'BG_COUNTS', 'BG_AREA', 'BG_RATE', 'NET_ERR' ])\n",
    "df03384 = pd.read_csv(\"my_source/2CXO_J002400.9-720453/acisf03384_000N031_r0139_regevt3.fits.b.lc.txt\", columns=['TIME', 'NET_RATE', 'ERR_RATE', 'NET_COUNTS', 'EXPOSURE', 'AREA', 'COUNT_RATE', 'COUNT_RATE_ERR', 'COUNTS', 'BG_COUNTS', 'BG_AREA', 'BG_RATE', 'NET_ERR' ])\n",
    "df03385 = pd.read_csv(\"my_source/2CXO_J002400.9-720453/acisf03385_000N031_r0139_regevt3.fits.b.lc.txt\", columns=['TIME', 'NET_RATE', 'ERR_RATE', 'NET_COUNTS', 'EXPOSURE', 'AREA', 'COUNT_RATE', 'COUNT_RATE_ERR', 'COUNTS', 'BG_COUNTS', 'BG_AREA', 'BG_RATE', 'NET_ERR' ])\n",
    "df03386 = pd.read_csv(\"my_source/2CXO_J002400.9-720453/acisf03386_000N031_r0139_regevt3.fits.b.lc.txt\", columns=['TIME', 'NET_RATE', 'ERR_RATE', 'NET_COUNTS', 'EXPOSURE', 'AREA', 'COUNT_RATE', 'COUNT_RATE_ERR', 'COUNTS', 'BG_COUNTS', 'BG_AREA', 'BG_RATE', 'NET_ERR' ])\n",
    "df03387 = pd.read_csv(\"my_source/2CXO_J002400.9-720453/acisf03386_000N031_r0139_regevt3.fits.b.lc.txt\", columns=['TIME', 'NET_RATE', 'ERR_RATE', 'NET_COUNTS', 'EXPOSURE', 'AREA', 'COUNT_RATE', 'COUNT_RATE_ERR', 'COUNTS', 'BG_COUNTS', 'BG_AREA', 'BG_RATE', 'NET_ERR' ])\n",
    "df15747 = pd.read_csv(\"my_source/2CXO_J002400.9-720453/acisf03386_000N031_r0139_regevt3.fits.b.lc.txt\", columns=['TIME', 'NET_RATE', 'ERR_RATE', 'NET_COUNTS', 'EXPOSURE', 'AREA', 'COUNT_RATE', 'COUNT_RATE_ERR', 'COUNTS', 'BG_COUNTS', 'BG_AREA', 'BG_RATE', 'NET_ERR' ])\n",
    "df15748 = pd.read_csv(\"my_source/2CXO_J002400.9-720453/acisf03386_000N031_r0139_regevt3.fits.b.lc.txt\", columns=['TIME', 'NET_RATE', 'ERR_RATE', 'NET_COUNTS', 'EXPOSURE', 'AREA', 'COUNT_RATE', 'COUNT_RATE_ERR', 'COUNTS', 'BG_COUNTS', 'BG_AREA', 'BG_RATE', 'NET_ERR' ])\n",
    "df16527 = pd.read_csv(\"my_source/2CXO_J002400.9-720453/acisf16527_000N031_r0079_regevt3.fits.b.lc.txt\", columns=['TIME', 'NET_RATE', 'ERR_RATE', 'NET_COUNTS', 'EXPOSURE', 'AREA', 'COUNT_RATE', 'COUNT_RATE_ERR', 'COUNTS', 'BG_COUNTS', 'BG_AREA', 'BG_RATE', 'NET_ERR' ])\n",
    "df16528 = pd.read_csv(\"my_source/2CXO_J002400.9-720453/acisf16528_000N031_r0014_regevt3.fits.b.lc.txt\", columns=['TIME', 'NET_RATE', 'ERR_RATE', 'NET_COUNTS', 'EXPOSURE', 'AREA', 'COUNT_RATE', 'COUNT_RATE_ERR', 'COUNTS', 'BG_COUNTS', 'BG_AREA', 'BG_RATE', 'NET_ERR' ])\n",
    "df16529 = pd.read_csv(\"my_source/2CXO_J002400.9-720453/acisf16529_000N031_r0079_regevt3.fits.b.lc.txt\", columns=['TIME', 'NET_RATE', 'ERR_RATE', 'NET_COUNTS', 'EXPOSURE', 'AREA', 'COUNT_RATE', 'COUNT_RATE_ERR', 'COUNTS', 'BG_COUNTS', 'BG_AREA', 'BG_RATE', 'NET_ERR' ])\n",
    "df17420 = pd.read_csv(\"my_source/2CXO_J002400.9-720453/acisf16529_000N031_r0079_regevt3.fits.b.lc.txt\", columns=['TIME', 'NET_RATE', 'ERR_RATE', 'NET_COUNTS', 'EXPOSURE', 'AREA', 'COUNT_RATE', 'COUNT_RATE_ERR', 'COUNTS', 'BG_COUNTS', 'BG_AREA', 'BG_RATE', 'NET_ERR' ])"
   ]
  },
  {
   "cell_type": "code",
   "execution_count": 14,
   "id": "ddede375-274d-4e78-b266-0e15c69d20ca",
   "metadata": {},
   "outputs": [
    {
     "data": {
      "text/html": [
       "<div>\n",
       "<style scoped>\n",
       "    .dataframe tbody tr th:only-of-type {\n",
       "        vertical-align: middle;\n",
       "    }\n",
       "\n",
       "    .dataframe tbody tr th {\n",
       "        vertical-align: top;\n",
       "    }\n",
       "\n",
       "    .dataframe thead th {\n",
       "        text-align: right;\n",
       "    }\n",
       "</style>\n",
       "<table border=\"1\" class=\"dataframe\">\n",
       "  <thead>\n",
       "    <tr style=\"text-align: right;\">\n",
       "      <th></th>\n",
       "      <th>#  TIME                 NET_RATE             ERR_RATE             NET_COUNTS           EXPOSURE             AREA                 COUNT_RATE           COUNT_RATE_ERR       COUNTS     BG_COUNTS            BG_AREA              BG_RATE              NET_ERR</th>\n",
       "    </tr>\n",
       "  </thead>\n",
       "  <tbody>\n",
       "    <tr>\n",
       "      <th>0</th>\n",
       "      <td>69583333.2017439902                    0    ...</td>\n",
       "    </tr>\n",
       "    <tr>\n",
       "      <th>1</th>\n",
       "      <td>69583631.3774240017                    0    ...</td>\n",
       "    </tr>\n",
       "    <tr>\n",
       "      <th>2</th>\n",
       "      <td>69583929.5531039834                    0    ...</td>\n",
       "    </tr>\n",
       "    <tr>\n",
       "      <th>3</th>\n",
       "      <td>69584227.7287839949                    0    ...</td>\n",
       "    </tr>\n",
       "    <tr>\n",
       "      <th>4</th>\n",
       "      <td>69584525.9044640064                    0    ...</td>\n",
       "    </tr>\n",
       "    <tr>\n",
       "      <th>...</th>\n",
       "      <td>...</td>\n",
       "    </tr>\n",
       "    <tr>\n",
       "      <th>109</th>\n",
       "      <td>69615834.3508639932     0.02717391304379    ...</td>\n",
       "    </tr>\n",
       "    <tr>\n",
       "      <th>110</th>\n",
       "      <td>69616132.5265440047     0.03396739130473    ...</td>\n",
       "    </tr>\n",
       "    <tr>\n",
       "      <th>111</th>\n",
       "      <td>69616430.7022239864     0.06453804347899    ...</td>\n",
       "    </tr>\n",
       "    <tr>\n",
       "      <th>112</th>\n",
       "      <td>69616728.8779039979     0.03074711963882    ...</td>\n",
       "    </tr>\n",
       "    <tr>\n",
       "      <th>113</th>\n",
       "      <td>69617027.0535840094                    0    ...</td>\n",
       "    </tr>\n",
       "  </tbody>\n",
       "</table>\n",
       "<p>114 rows × 1 columns</p>\n",
       "</div>"
      ],
      "text/plain": [
       "    #  TIME                 NET_RATE             ERR_RATE             NET_COUNTS           EXPOSURE             AREA                 COUNT_RATE           COUNT_RATE_ERR       COUNTS     BG_COUNTS            BG_AREA              BG_RATE              NET_ERR\n",
       "0      69583333.2017439902                    0    ...                                                                                                                                                                                                          \n",
       "1      69583631.3774240017                    0    ...                                                                                                                                                                                                          \n",
       "2      69583929.5531039834                    0    ...                                                                                                                                                                                                          \n",
       "3      69584227.7287839949                    0    ...                                                                                                                                                                                                          \n",
       "4      69584525.9044640064                    0    ...                                                                                                                                                                                                          \n",
       "..                                                 ...                                                                                                                                                                                                          \n",
       "109    69615834.3508639932     0.02717391304379    ...                                                                                                                                                                                                          \n",
       "110    69616132.5265440047     0.03396739130473    ...                                                                                                                                                                                                          \n",
       "111    69616430.7022239864     0.06453804347899    ...                                                                                                                                                                                                          \n",
       "112    69616728.8779039979     0.03074711963882    ...                                                                                                                                                                                                          \n",
       "113    69617027.0535840094                    0    ...                                                                                                                                                                                                          \n",
       "\n",
       "[114 rows x 1 columns]"
      ]
     },
     "execution_count": 14,
     "metadata": {},
     "output_type": "execute_result"
    }
   ],
   "source": [
    "df00078"
   ]
  },
  {
   "cell_type": "code",
   "execution_count": 7,
   "id": "73f7a5f4-7345-4af2-8c44-378147e9e955",
   "metadata": {},
   "outputs": [
    {
     "data": {
      "text/plain": [
       "[<matplotlib.lines.Line2D at 0x7f0e30f3e1f0>]"
      ]
     },
     "execution_count": 7,
     "metadata": {},
     "output_type": "execute_result"
    },
    {
     "data": {
      "image/png": "[encoded data removed]",
      "text/plain": [
       "<Figure size 640x480 with 1 Axes>"
      ]
     },
     "metadata": {},
     "output_type": "display_data"
    }
   ],
   "source": [
    "plt.plot(df['TIME'], df['NET_RATE'])"
   ]
  },
  {
   "cell_type": "code",
   "execution_count": 12,
   "id": "165c5269-4b2d-4b57-82a2-d35280d69cec",
   "metadata": {},
   "outputs": [
    {
     "ename": "KeyError",
     "evalue": "'TIME'",
     "output_type": "error",
     "traceback": [
      "\u001b[0;31m---------------------------------------------------------------------------\u001b[0m",
      "\u001b[0;31mKeyError\u001b[0m                                  Traceback (most recent call last)",
      "File \u001b[0;32m~/.local/lib/python3.9/site-packages/pandas/core/indexes/base.py:3652\u001b[0m, in \u001b[0;36mIndex.get_loc\u001b[0;34m(self, key)\u001b[0m\n\u001b[1;32m   3651\u001b[0m \u001b[38;5;28;01mtry\u001b[39;00m:\n\u001b[0;32m-> 3652\u001b[0m     \u001b[38;5;28;01mreturn\u001b[39;00m \u001b[38;5;28;43mself\u001b[39;49m\u001b[38;5;241;43m.\u001b[39;49m\u001b[43m_engine\u001b[49m\u001b[38;5;241;43m.\u001b[39;49m\u001b[43mget_loc\u001b[49m\u001b[43m(\u001b[49m\u001b[43mcasted_key\u001b[49m\u001b[43m)\u001b[49m\n\u001b[1;32m   3653\u001b[0m \u001b[38;5;28;01mexcept\u001b[39;00m \u001b[38;5;167;01mKeyError\u001b[39;00m \u001b[38;5;28;01mas\u001b[39;00m err:\n",
      "File \u001b[0;32m~/.local/lib/python3.9/site-packages/pandas/_libs/index.pyx:147\u001b[0m, in \u001b[0;36mpandas._libs.index.IndexEngine.get_loc\u001b[0;34m()\u001b[0m\n",
      "File \u001b[0;32m~/.local/lib/python3.9/site-packages/pandas/_libs/index.pyx:176\u001b[0m, in \u001b[0;36mpandas._libs.index.IndexEngine.get_loc\u001b[0;34m()\u001b[0m\n",
      "File \u001b[0;32mpandas/_libs/hashtable_class_helper.pxi:7080\u001b[0m, in \u001b[0;36mpandas._libs.hashtable.PyObjectHashTable.get_item\u001b[0;34m()\u001b[0m\n",
      "File \u001b[0;32mpandas/_libs/hashtable_class_helper.pxi:7088\u001b[0m, in \u001b[0;36mpandas._libs.hashtable.PyObjectHashTable.get_item\u001b[0;34m()\u001b[0m\n",
      "\u001b[0;31mKeyError\u001b[0m: 'TIME'",
      "\nThe above exception was the direct cause of the following exception:\n",
      "\u001b[0;31mKeyError\u001b[0m                                  Traceback (most recent call last)",
      "Cell \u001b[0;32mIn[12], line 7\u001b[0m\n\u001b[1;32m      3\u001b[0m gs1\u001b[38;5;241m.\u001b[39mupdate(wspace\u001b[38;5;241m=\u001b[39m\u001b[38;5;241m0.01\u001b[39m)\n\u001b[1;32m      6\u001b[0m \u001b[38;5;66;03m#ax1\u001b[39;00m\n\u001b[0;32m----> 7\u001b[0m ax1 \u001b[38;5;241m=\u001b[39m fig\u001b[38;5;241m.\u001b[39madd_subplot(\u001b[43mdf00078\u001b[49m\u001b[43m[\u001b[49m\u001b[38;5;124;43m'\u001b[39;49m\u001b[38;5;124;43mTIME\u001b[39;49m\u001b[38;5;124;43m'\u001b[39;49m\u001b[43m]\u001b[49m, df00078[\u001b[38;5;124m'\u001b[39m\u001b[38;5;124mNET_RATE\u001b[39m\u001b[38;5;124m'\u001b[39m])\n",
      "File \u001b[0;32m~/.local/lib/python3.9/site-packages/pandas/core/frame.py:3761\u001b[0m, in \u001b[0;36mDataFrame.__getitem__\u001b[0;34m(self, key)\u001b[0m\n\u001b[1;32m   3759\u001b[0m \u001b[38;5;28;01mif\u001b[39;00m \u001b[38;5;28mself\u001b[39m\u001b[38;5;241m.\u001b[39mcolumns\u001b[38;5;241m.\u001b[39mnlevels \u001b[38;5;241m>\u001b[39m \u001b[38;5;241m1\u001b[39m:\n\u001b[1;32m   3760\u001b[0m     \u001b[38;5;28;01mreturn\u001b[39;00m \u001b[38;5;28mself\u001b[39m\u001b[38;5;241m.\u001b[39m_getitem_multilevel(key)\n\u001b[0;32m-> 3761\u001b[0m indexer \u001b[38;5;241m=\u001b[39m \u001b[38;5;28;43mself\u001b[39;49m\u001b[38;5;241;43m.\u001b[39;49m\u001b[43mcolumns\u001b[49m\u001b[38;5;241;43m.\u001b[39;49m\u001b[43mget_loc\u001b[49m\u001b[43m(\u001b[49m\u001b[43mkey\u001b[49m\u001b[43m)\u001b[49m\n\u001b[1;32m   3762\u001b[0m \u001b[38;5;28;01mif\u001b[39;00m is_integer(indexer):\n\u001b[1;32m   3763\u001b[0m     indexer \u001b[38;5;241m=\u001b[39m [indexer]\n",
      "File \u001b[0;32m~/.local/lib/python3.9/site-packages/pandas/core/indexes/base.py:3654\u001b[0m, in \u001b[0;36mIndex.get_loc\u001b[0;34m(self, key)\u001b[0m\n\u001b[1;32m   3652\u001b[0m     \u001b[38;5;28;01mreturn\u001b[39;00m \u001b[38;5;28mself\u001b[39m\u001b[38;5;241m.\u001b[39m_engine\u001b[38;5;241m.\u001b[39mget_loc(casted_key)\n\u001b[1;32m   3653\u001b[0m \u001b[38;5;28;01mexcept\u001b[39;00m \u001b[38;5;167;01mKeyError\u001b[39;00m \u001b[38;5;28;01mas\u001b[39;00m err:\n\u001b[0;32m-> 3654\u001b[0m     \u001b[38;5;28;01mraise\u001b[39;00m \u001b[38;5;167;01mKeyError\u001b[39;00m(key) \u001b[38;5;28;01mfrom\u001b[39;00m \u001b[38;5;21;01merr\u001b[39;00m\n\u001b[1;32m   3655\u001b[0m \u001b[38;5;28;01mexcept\u001b[39;00m \u001b[38;5;167;01mTypeError\u001b[39;00m:\n\u001b[1;32m   3656\u001b[0m     \u001b[38;5;66;03m# If we have a listlike key, _check_indexing_error will raise\u001b[39;00m\n\u001b[1;32m   3657\u001b[0m     \u001b[38;5;66;03m#  InvalidIndexError. Otherwise we fall through and re-raise\u001b[39;00m\n\u001b[1;32m   3658\u001b[0m     \u001b[38;5;66;03m#  the TypeError.\u001b[39;00m\n\u001b[1;32m   3659\u001b[0m     \u001b[38;5;28mself\u001b[39m\u001b[38;5;241m.\u001b[39m_check_indexing_error(key)\n",
      "\u001b[0;31mKeyError\u001b[0m: 'TIME'"
     ]
    },
    {
     "data": {
      "text/plain": [
       "<Figure size 800x800 with 0 Axes>"
      ]
     },
     "metadata": {},
     "output_type": "display_data"
    }
   ],
   "source": [
    "fig = plt.figure(figsize=(8,8))\n",
    "gs1 = GridSpec(1, 4)\n",
    "gs1.update(wspace=0.01)\n",
    "\n",
    "\n",
    "#ax1\n",
    "ax1 = fig.add_subplot(df00078['TIME'], df00078['NET_RATE'])"
   ]
  }
 ],
 "metadata": {
  "kernelspec": {
   "display_name": "Python 3 (ipykernel)",
   "language": "python",
   "name": "python3"
  },
  "language_info": {
   "codemirror_mode": {
    "name": "ipython",
    "version": 3
   },
   "file_extension": ".py",
   "mimetype": "text/x-python",
   "name": "python",
   "nbconvert_exporter": "python",
   "pygments_lexer": "ipython3",
   "version": "3.9.16"
  }
 },
 "nbformat": 4,
 "nbformat_minor": 5
}
